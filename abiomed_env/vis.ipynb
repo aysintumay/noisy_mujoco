{
 "cells": [
  {
   "cell_type": "code",
   "execution_count": null,
   "id": "1b933dd2",
   "metadata": {},
   "outputs": [],
   "source": [
    "from model import *\n",
    "import argparse\n",
    "from rl_env import *"
   ]
  },
  {
   "cell_type": "code",
   "execution_count": null,
   "id": "db2bb9cd",
   "metadata": {},
   "outputs": [],
   "source": []
  },
  {
   "cell_type": "code",
   "execution_count": 63,
   "id": "bff689fc",
   "metadata": {},
   "outputs": [
    {
     "name": "stderr",
     "output_type": "stream",
     "text": [
      "/home/ubuntu/miniconda3/envs/py310/lib/python3.10/site-packages/torch/nn/modules/transformer.py:382: UserWarning: enable_nested_tensor is True, but self.use_nested_tensor is False because encoder_layer.self_attn.batch_first was not True(use batch_first for better inference performance)\n",
      "  warnings.warn(\n"
     ]
    },
    {
     "name": "stdout",
     "output_type": "stream",
     "text": [
      "Model loaded from /abiomed/downsampled/models/10min_1hr_window_model.pth\n",
      "loaded datasets with length \n",
      " train:  4309 \n",
      " val:  709 \n",
      " test:  1266\n",
      "Data loaded from /abiomed/downsampled/10min_1hr_window.pkl\n"
     ]
    }
   ],
   "source": [
    "env = AbiomedRLEnvFactory.create_env(\n",
    "    model_name=\"10min_1hr_window\",\n",
    "    model_path=None,\n",
    "    data_path=None,\n",
    "    max_steps=24,\n",
    "    action_space_type=\"discrete\",\n",
    "    reward_type=\"smooth\",\n",
    "    normalize_rewards=False,\n",
    "    seed=42\n",
    ")"
   ]
  },
  {
   "cell_type": "code",
   "execution_count": 64,
   "id": "32df3794",
   "metadata": {},
   "outputs": [
    {
     "name": "stdout",
     "output_type": "stream",
     "text": [
      "a2c_20250717_0918.zip  ppo_20250717_0917.zip  ppo_20250717_0919.zip\n"
     ]
    }
   ],
   "source": [
    "ls models"
   ]
  },
  {
   "cell_type": "code",
   "execution_count": 65,
   "id": "36a6eb3b",
   "metadata": {},
   "outputs": [
    {
     "name": "stdout",
     "output_type": "stream",
     "text": [
      "Using cuda:1 device\n",
      "Wrapping the env with a `Monitor` wrapper\n",
      "Wrapping the env in a DummyVecEnv.\n"
     ]
    },
    {
     "name": "stderr",
     "output_type": "stream",
     "text": [
      "/home/ubuntu/miniconda3/envs/py310/lib/python3.10/site-packages/stable_baselines3/common/vec_env/patch_gym.py:49: UserWarning: You provided an OpenAI Gym environment. We strongly recommend transitioning to Gymnasium environments. Stable-Baselines3 is automatically wrapping your environments in a compatibility layer, which could potentially cause issues.\n",
      "  warnings.warn(\n",
      "/home/ubuntu/miniconda3/envs/py310/lib/python3.10/site-packages/stable_baselines3/common/on_policy_algorithm.py:150: UserWarning: You are trying to run PPO on the GPU, but it is primarily intended to run on the CPU when not using a CNN policy (you are using ActorCriticPolicy which should be a MlpPolicy). See https://github.com/DLR-RM/stable-baselines3/issues/1245 for more info. You can pass `device='cpu'` or `export CUDA_VISIBLE_DEVICES=` to force using the CPU.Note: The model will train, but the GPU utilization will be poor and the training might take longer than on CPU.\n",
      "  warnings.warn(\n"
     ]
    }
   ],
   "source": [
    "from stable_baselines3 import PPO\n",
    "model_device = \"cuda:1\"\n",
    "policy = PPO(\"MlpPolicy\", env, verbose=1, device=model_device)\n",
    "policy = policy.load(\"models/ppo_20250717_0919\")\n",
    "\n",
    "\n",
    "\n",
    "\n",
    "\n",
    "\n",
    "\n"
   ]
  },
  {
   "cell_type": "code",
   "execution_count": 79,
   "id": "288afeb3",
   "metadata": {},
   "outputs": [
    {
     "name": "stdout",
     "output_type": "stream",
     "text": [
      "(25, 6, 12) (24, 1) (24, 1)\n"
     ]
    }
   ],
   "source": [
    "from stable_baselines3.common.vec_env import DummyVecEnv\n",
    "\n",
    "vec_env = DummyVecEnv([lambda: env])\n",
    "obs = vec_env.reset()\n",
    "traj_obs = [obs]\n",
    "traj_actions = []\n",
    "traj_rewards = []\n",
    "for i in range(24):\n",
    "    action, _states = policy.predict(obs)\n",
    "    obs, rewards, dones, info = vec_env.step(action)\n",
    "    traj_obs.append(obs)\n",
    "    traj_actions.append(action)\n",
    "    traj_rewards.append(rewards)\n",
    "\n",
    "\n",
    "traj_obs = np.array(traj_obs)\n",
    "traj_obs = traj_obs.reshape(25, 6 , 12)\n",
    "traj_actions = np.array(traj_actions)\n",
    "traj_rewards = np.array(traj_rewards)\n",
    "print(traj_obs.shape, traj_actions.shape, traj_rewards.shape)"
   ]
  },
  {
   "cell_type": "code",
   "execution_count": 80,
   "id": "5c417731",
   "metadata": {},
   "outputs": [
    {
     "name": "stdout",
     "output_type": "stream",
     "text": [
      "torch.Size([25, 6, 12])\n"
     ]
    }
   ],
   "source": [
    "\n",
    "# unnorm x\n",
    "pred = torch.tensor(traj_obs)\n",
    "std = env.world_model.std\n",
    "mean = env.world_model.mean\n",
    "columns = env.world_model.columns\n",
    "x_unnorm = pred.cpu() * std[columns] + mean[columns]\n",
    "print(x_unnorm.shape)"
   ]
  },
  {
   "cell_type": "code",
   "execution_count": 72,
   "id": "d2fc4150",
   "metadata": {},
   "outputs": [],
   "source": [
    "def plot_output(env, pred, pl):\n",
    "    \n",
    "    # unnorm x\n",
    "    pred = torch.tensor(pred)\n",
    "\n",
    "    std = env.world_model.std\n",
    "    mean = env.world_model.mean\n",
    "    columns = env.world_model.columns\n",
    "    x_unnorm = pred.cpu() * std[columns] + mean[columns]\n",
    "\n",
    "    total_len =  pred.shape[1] * pred.shape[0]\n",
    "\n",
    "    fig, ax1 = plt.subplots()\n",
    "\n",
    "    ax1.xaxis.set_major_locator(plt.MaxNLocator(6))\n",
    "    ax1.xaxis.set_major_formatter(plt.FuncFormatter(lambda x, p: f\"{x/6:.1f}\"))\n",
    "\n",
    "    color = \"tab:red\"\n",
    "    ax1.set_xlabel(\"time (hr)\")\n",
    "    ax1.set_ylabel(\"MAP\", color=color)\n",
    "    # multiple samples\n",
    "    x_unnorm = x_unnorm.reshape(-1, 12)\n",
    "    ax1.plot(\n",
    "                np.arange(0, total_len, 1),\n",
    "                x_unnorm[:, 0],\n",
    "                color=color,\n",
    "                linewidth=0.5,\n",
    "                alpha=0.5,\n",
    "    )\n",
    "    ax1.lines[-1].set_label(\"prediction\")\n",
    "\n",
    "    ax1.legend()\n",
    "    ax1.tick_params(axis=\"y\", labelcolor=color)\n",
    "\n",
    "    ax2 = ax1.twinx()  # instantiate a second axes that shares the same x-axis\n",
    "\n",
    "    color = \"tab:blue\"\n",
    "    ax2.set_ylabel(\n",
    "        \"P-Level\", color=color\n",
    "    )  # we already handled the x-label with ax1\n",
    "    ax2.plot(np.arange(0, total_len, 1), x_unnorm[:, 11], color=color, linewidth=1, alpha=0.5)\n",
    "    ax2.tick_params(axis=\"y\", labelcolor=color)\n",
    "    ax2.set_ylim(0, 10)\n",
    "\n",
    "    fig.tight_layout()  # otherwise the right y-label is slightly clipped\n",
    "    plt.show()\n",
    "\n"
   ]
  },
  {
   "cell_type": "code",
   "execution_count": 81,
   "id": "430cb06e",
   "metadata": {},
   "outputs": [
    {
     "data": {
      "image/png": "[encoded data removed]",
      "text/plain": [
       "<Figure size 640x480 with 2 Axes>"
      ]
     },
     "metadata": {},
     "output_type": "display_data"
    },
    {
     "name": "stdout",
     "output_type": "stream",
     "text": [
      "Total reward: [-55.801254]\n"
     ]
    }
   ],
   "source": [
    "plot_output(env, traj_obs, traj_actions)\n",
    "rewards = sum(traj_rewards)\n",
    "print(f\"Total reward: {rewards}\")"
   ]
  }
 ],
 "metadata": {
  "kernelspec": {
   "display_name": "py310",
   "language": "python",
   "name": "py310"
  },
  "language_info": {
   "codemirror_mode": {
    "name": "ipython",
    "version": 3
   },
   "file_extension": ".py",
   "mimetype": "text/x-python",
   "name": "python",
   "nbconvert_exporter": "python",
   "pygments_lexer": "ipython3",
   "version": "3.10.18"
  }
 },
 "nbformat": 4,
 "nbformat_minor": 5
}
